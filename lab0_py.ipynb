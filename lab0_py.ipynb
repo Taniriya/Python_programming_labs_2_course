{
  "nbformat": 4,
  "nbformat_minor": 0,
  "metadata": {
    "colab": {
      "provenance": []
    },
    "kernelspec": {
      "name": "python3",
      "display_name": "Python 3"
    },
    "language_info": {
      "name": "python"
    }
  },
  "cells": [
    {
      "cell_type": "markdown",
      "source": [
        "1\n",
        "Напишите программу, которая запрашивает у пользователя его имя и год рождения. Затем программа вычисляет возраст пользователя (предполагая, что текущий год 2025) и выводит приветственное сообщение: \"Привет, [Имя]! В этом году тебе исполняется [Возраст] лет.\""
      ],
      "metadata": {
        "id": "n_6XQyNioaZO"
      }
    },
    {
      "cell_type": "code",
      "execution_count": 4,
      "metadata": {
        "colab": {
          "base_uri": "https://localhost:8080/"
        },
        "id": "1Edx7wXCn1yn",
        "outputId": "eef11daf-b17c-49f7-846b-a464cd008804"
      },
      "outputs": [
        {
          "output_type": "stream",
          "name": "stdout",
          "text": [
            "Введите ваше имя: Таня\n",
            "Введите ваш год рождения: 2006\n",
            "Привет, Таня! В этом году тебе исполняется 19 лет.\n"
          ]
        }
      ],
      "source": [
        "name = input(\"Введите ваше имя: \")\n",
        "birth_date = int(input(\"Введите ваш год рождения: \"))\n",
        "print(f'Привет, {name}! В этом году тебе исполняется {2025-birth_date} лет.')"
      ]
    },
    {
      "cell_type": "markdown",
      "source": [
        "2\n",
        "Пользователь вводит число. Определите, является ли это число кратным 5 и 10 одновременно. Выведите соответствующее сообщение: \"Число кратно и 5, и 10\", \"Число не кратно одновременно 5 и 10\"."
      ],
      "metadata": {
        "id": "jQjFLWjrolv4"
      }
    },
    {
      "cell_type": "code",
      "source": [
        "num = int(input(\"Введите число: \"))\n",
        "if num % 10 == 0:\n",
        "  print(\"Число кратно и 5, и 10\")\n",
        "else:\n",
        "  print(\"Число не кратно одновременно 5 и 10\")"
      ],
      "metadata": {
        "colab": {
          "base_uri": "https://localhost:8080/"
        },
        "id": "AgqTq7JGpaGt",
        "outputId": "a3452fda-5db1-4e69-edec-b31487a82e7f"
      },
      "execution_count": 6,
      "outputs": [
        {
          "output_type": "stream",
          "name": "stdout",
          "text": [
            "Введите число: 5\n",
            "Число не кратно одновременно 5 и 10\n"
          ]
        }
      ]
    },
    {
      "cell_type": "markdown",
      "source": [
        "3\n",
        "Напишите программу, которая запрашивает три целых числа и находит наименьшее среди них. Не используйте встроенные функции (min, sort). Выведите найденное минимальное число.\n"
      ],
      "metadata": {
        "id": "KN8DQ3Sqp0s-"
      }
    },
    {
      "cell_type": "code",
      "source": [
        "a = int(input(\"Введите первое число: \"))\n",
        "b = int(input(\"Введите второе число: \"))\n",
        "c = int(input(\"Введите третье число: \"))\n",
        "if a <= b and a <= c:\n",
        "  print(a)\n",
        "elif b <= a and b <= c:\n",
        "  print(b)\n",
        "else:\n",
        "  print(c)"
      ],
      "metadata": {
        "colab": {
          "base_uri": "https://localhost:8080/"
        },
        "id": "IHx89e09p1uc",
        "outputId": "6d098058-294e-4712-c123-5007836d1969"
      },
      "execution_count": 10,
      "outputs": [
        {
          "output_type": "stream",
          "name": "stdout",
          "text": [
            "Введите первое число: 5\n",
            "Введите второе число: 6\n",
            "Введите третье число: 7\n",
            "5\n"
          ]
        }
      ]
    },
    {
      "cell_type": "markdown",
      "source": [
        "4\n",
        "Пользователь вводит два числа, start и end. Напишите цикл, который выводит все чётные числа в этом диапазоне (включительно). Если таких чисел нет, выведите \"В этом диапазоне нет чётных чисел.\""
      ],
      "metadata": {
        "id": "D9ad8j8tqpoO"
      }
    },
    {
      "cell_type": "code",
      "source": [
        "start = int(input(\"Введите стартовое число: \"))\n",
        "end = int(input(\"Введите конечное число: \"))\n",
        "ans = []\n",
        "for i in range(start, end+1):\n",
        "  if i % 2 == 0:\n",
        "    ans.append(i)\n",
        "if ans != []:\n",
        "  print(ans)\n",
        "else:\n",
        "  print(\"В этом диапазоне нет чётных чисел.\")"
      ],
      "metadata": {
        "colab": {
          "base_uri": "https://localhost:8080/"
        },
        "id": "0S3k92UXqr79",
        "outputId": "a05c2b9e-c454-48ff-d226-86cae760ff7c"
      },
      "execution_count": 12,
      "outputs": [
        {
          "output_type": "stream",
          "name": "stdout",
          "text": [
            "Введите стартовое число: 5\n",
            "Введите конечное число: 10\n",
            "[6, 8, 10]\n"
          ]
        }
      ]
    },
    {
      "cell_type": "markdown",
      "source": [
        "5\n",
        "Дан заранее заданный список чисел, например: numbers = [12, -5, 23, 0, 4, 17, -8, 0, 11].\n",
        "Напишите программу, которая:\n",
        "\n",
        "    Выводит количество элементов в списке.\n",
        "\n",
        "    Выводит последний элемент списка.\n",
        "\n",
        "    Выводит список в обратном порядке.\n",
        "\n",
        "    Выводит \"Да\", если список содержит числа 5 и 17, и \"Нет\" в противном случае."
      ],
      "metadata": {
        "id": "HWjHISDSrXee"
      }
    },
    {
      "cell_type": "code",
      "source": [
        "numbers = [12, -5, 23, 0, 4, 17, -8, 0, 11]\n",
        "print(f'Количество элементов в списке: {len(numbers)}')\n",
        "print(f'Последний элемент списка: {numbers[-1]}')\n",
        "print(f'Список в обратном порядке: {numbers[::-1]}')\n",
        "count = 0\n",
        "for i in numbers:\n",
        "  if i == 15 or i == 17:\n",
        "    count += 1\n",
        "if count >= 2:\n",
        "  print(\"Да\")\n",
        "else:\n",
        "  print(\"Нет\")"
      ],
      "metadata": {
        "colab": {
          "base_uri": "https://localhost:8080/"
        },
        "id": "a-WoZEgcraed",
        "outputId": "523a4492-1366-4af1-f169-479897e4ddff"
      },
      "execution_count": 14,
      "outputs": [
        {
          "output_type": "stream",
          "name": "stdout",
          "text": [
            "Количество элементов в списке: 9\n",
            "Последний элемент списка: 11\n",
            "Список в обратном порядке: [11, 0, -8, 17, 4, 0, 23, -5, 12]\n",
            "Нет\n"
          ]
        }
      ]
    },
    {
      "cell_type": "markdown",
      "source": [
        "6\n",
        "Создайте словарь student с ключами: \"name\", \"age\", \"course\", \"grades\" (оценки - это список, например [4, 5, 3, 5, 4]). Напишите код, который:\n",
        "\n",
        "    Выводит имя и курс студента.\n",
        "\n",
        "    Вычисляет и выводит средний балл студента из списка grades.\n",
        "\n",
        "    Добавляет новую оценку 5 в конец списка оценок.\n",
        "\n",
        "    Выводит обновлённый словарь."
      ],
      "metadata": {
        "id": "20NDN0vdsedV"
      }
    },
    {
      "cell_type": "code",
      "source": [
        "student = {\"name\": ['Ваня', 'Петя', 'Маша'], \"age\": [16, 17, 18], \"course\": ['1', '2', '3'], \"grades\": [[4, 3, 3, 3, 4], [4, 5, 4, 4, 4], [5, 5, 5, 5, 4]]}\n",
        "for i in range(len(student['name'])):\n",
        "  print(f'Ваше имя: {student['name'][i]}')\n",
        "  print(f'Ваш курс: {student[\"course\"][i]}')\n",
        "  mean_grades = sum(student['grades'][i]) / len(student['grades'][i])\n",
        "  print(f'Ваш средний балл: {mean_grades}')\n",
        "  student['grades'][i].append(5)\n",
        "  print(\"Вам добавлена новая оценка '5'\")\n",
        "  print()\n",
        "print(student)"
      ],
      "metadata": {
        "colab": {
          "base_uri": "https://localhost:8080/"
        },
        "id": "_tFWALZmsgtN",
        "outputId": "d58ddf52-30ff-476f-99bb-622402ea6969"
      },
      "execution_count": 48,
      "outputs": [
        {
          "output_type": "stream",
          "name": "stdout",
          "text": [
            "Ваше имя: Ваня\n",
            "Ваш курс: 1\n",
            "Ваш средний балл: 3.4\n",
            "Вам добавлена новая оценка '5'\n",
            "\n",
            "Ваше имя: Петя\n",
            "Ваш курс: 2\n",
            "Ваш средний балл: 4.2\n",
            "Вам добавлена новая оценка '5'\n",
            "\n",
            "Ваше имя: Маша\n",
            "Ваш курс: 3\n",
            "Ваш средний балл: 4.8\n",
            "Вам добавлена новая оценка '5'\n",
            "\n",
            "{'name': ['Ваня', 'Петя', 'Маша'], 'age': [16, 17, 18], 'course': ['1', '2', '3'], 'grades': [[4, 3, 3, 3, 4, 5], [4, 5, 4, 4, 4, 5], [5, 5, 5, 5, 4, 5]]}\n"
          ]
        }
      ]
    },
    {
      "cell_type": "markdown",
      "source": [
        "7\n",
        "Напишите две функции:\n",
        "\n",
        "    calculate_circle_area(radius): принимает радиус круга и возвращает его площадь (π * R²).\n",
        "    Используйте math.pi или значение 3.14159.\n",
        "\n",
        "    is_positive(number): принимает число и возвращает True, если число положительное, и False в противном случае.\n",
        "    В основной программе продемонстрируйте работу обеих функций."
      ],
      "metadata": {
        "id": "CyUycpvUuIE9"
      }
    },
    {
      "cell_type": "code",
      "source": [
        "def calculate_circle_area(radius):\n",
        "  return 3.14159 * radius ** 2\n",
        "\n",
        "def is_positive(number):\n",
        "  if number == abs(number):\n",
        "    return True\n",
        "  else:\n",
        "    return False\n",
        "\n",
        "\n",
        "print(calculate_circle_area(5))\n",
        "print(is_positive(5))\n",
        "print(is_positive(-5))"
      ],
      "metadata": {
        "colab": {
          "base_uri": "https://localhost:8080/"
        },
        "id": "ZsqoUTt2uIws",
        "outputId": "7466c41a-4289-47d2-974e-ba2d06770b2d"
      },
      "execution_count": 15,
      "outputs": [
        {
          "output_type": "stream",
          "name": "stdout",
          "text": [
            "78.53975\n",
            "True\n",
            "False\n"
          ]
        }
      ]
    },
    {
      "cell_type": "markdown",
      "source": [
        "8\n",
        "Напишите программу, которая принимает строку и сдвигает каждую букву в ней на 3 позиции вперёд в алфавите. Считайте, что алфавит зациклен. Регистр букв не менять. Все не-буквенные символы оставить без изменений.\n",
        "Пример: \"Hello, World!\" -> \"Khoor, Zruog!\"\n"
      ],
      "metadata": {
        "id": "j6uS7TG4uLBs"
      }
    },
    {
      "cell_type": "code",
      "source": [
        "import string\n",
        "\n",
        "\n",
        "alphabet = list(string.ascii_lowercase)*2\n",
        "print(alphabet)\n",
        "word = [i for i in input('Введите ваше предложение: ')]\n",
        "for i in range(len(word)):\n",
        "  if word[i] in alphabet:\n",
        "    word[i] = alphabet[alphabet.index(word[i])+3]\n",
        "  elif word[i].lower() in alphabet:\n",
        "    word[i] = alphabet[alphabet.index(word[i].lower())+3].upper()\n",
        "print(word)"
      ],
      "metadata": {
        "colab": {
          "base_uri": "https://localhost:8080/"
        },
        "id": "fjrkDJeiuLd0",
        "outputId": "9817046b-cf2a-48c2-e2bd-6e2020ddfb91"
      },
      "execution_count": 12,
      "outputs": [
        {
          "output_type": "stream",
          "name": "stdout",
          "text": [
            "['a', 'b', 'c', 'd', 'e', 'f', 'g', 'h', 'i', 'j', 'k', 'l', 'm', 'n', 'o', 'p', 'q', 'r', 's', 't', 'u', 'v', 'w', 'x', 'y', 'z', 'a', 'b', 'c', 'd', 'e', 'f', 'g', 'h', 'i', 'j', 'k', 'l', 'm', 'n', 'o', 'p', 'q', 'r', 's', 't', 'u', 'v', 'w', 'x', 'y', 'z']\n",
            "Введите ваше предложение: Hello, World!\n",
            "['K', 'h', 'o', 'o', 'r', ',', ' ', 'Z', 'r', 'u', 'o', 'g', '!']\n"
          ]
        }
      ]
    },
    {
      "cell_type": "markdown",
      "source": [
        "9\n",
        "Сгенерируйте список из 15 случайных целых чисел в диапазоне от -10 до 10. Затем создайте на его основе два новых списка, используя генераторы списков:\n",
        "\n",
        "    Список только из положительных чисел.\n",
        "\n",
        "    Список из квадратов всех чисел исходного списка.\n",
        "    Выведите все три списка."
      ],
      "metadata": {
        "id": "ZCy2eyfHuLyL"
      }
    },
    {
      "cell_type": "code",
      "source": [
        "import random\n",
        "\n",
        "\n",
        "num_list = [random.randrange(-10, 11) for i in range(15)]\n",
        "print(num_list)\n",
        "positive_num_list = [i for i in num_list if i >= 0]\n",
        "print(positive_num_list)\n",
        "square_num_list = [i**2 for i in num_list]\n",
        "print(square_num_list)"
      ],
      "metadata": {
        "colab": {
          "base_uri": "https://localhost:8080/"
        },
        "id": "oW6CS0QduNgE",
        "outputId": "203dc441-ed28-4fc1-b7ca-d0a255b1cd32"
      },
      "execution_count": 58,
      "outputs": [
        {
          "output_type": "stream",
          "name": "stdout",
          "text": [
            "[3, 1, -10, 9, -2, 10, -3, -8, -5, 2, 1, 5, 9, 10, -4]\n",
            "[3, 1, 9, 10, 2, 1, 5, 9, 10]\n",
            "[9, 1, 100, 81, 4, 100, 9, 64, 25, 4, 1, 25, 81, 100, 16]\n"
          ]
        }
      ]
    },
    {
      "cell_type": "markdown",
      "source": [
        "10\n",
        "Напишите программу, которая бесконечно запрашивает у пользователя ввод числа, пока не будет введено \"стоп\". При каждой итерации программа пытается преобразовать ввод в число с плавающей точкой и выводит его. Если преобразование не удаётся (пользователь ввёл текст, не являющийся числом или словом \"стоп\"), программа должна вывести сообщение \"Ошибка: введите число или 'стоп'.\" и продолжить работу."
      ],
      "metadata": {
        "id": "hGX82FrSvJgl"
      }
    },
    {
      "cell_type": "code",
      "source": [
        "num = input('Введите число или слово \"стоп\": ')\n",
        "while num != 'стоп':\n",
        "  try:\n",
        "    print(float(num))\n",
        "    num = input('Введите число или слово \"стоп\": ')\n",
        "  except ValueError:\n",
        "    print(\"Ошибка: введите число или 'стоп'.\")\n",
        "    num = input('Введите число или слово \"стоп\": ')"
      ],
      "metadata": {
        "colab": {
          "base_uri": "https://localhost:8080/"
        },
        "id": "PeyQ7Rd8vNu7",
        "outputId": "56910c62-eb06-451a-f0b1-98b1a83eb8bd"
      },
      "execution_count": 11,
      "outputs": [
        {
          "name": "stdout",
          "output_type": "stream",
          "text": [
            "Введите число или слово \"стоп\": 456\n",
            "456.0\n",
            "Введите число или слово \"стоп\": пп\n",
            "Ошибка: введите число или 'стоп'.\n",
            "Введите число или слово \"стоп\": 4242\n",
            "4242.0\n",
            "Введите число или слово \"стоп\": стоп\n"
          ]
        }
      ]
    }
  ]
}