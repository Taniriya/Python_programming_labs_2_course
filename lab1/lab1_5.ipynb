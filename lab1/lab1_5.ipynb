{
  "nbformat": 4,
  "nbformat_minor": 0,
  "metadata": {
    "colab": {
      "provenance": [],
      "authorship_tag": "ABX9TyNtmInS07DQ73MBEmXBBL7T",
      "include_colab_link": true
    },
    "kernelspec": {
      "name": "python3",
      "display_name": "Python 3"
    },
    "language_info": {
      "name": "python"
    }
  },
  "cells": [
    {
      "cell_type": "markdown",
      "metadata": {
        "id": "view-in-github",
        "colab_type": "text"
      },
      "source": [
        "<a href=\"https://colab.research.google.com/github/Taniriya/Python_programming_labs_2_course/blob/main/lab1/lab1_5.ipynb\" target=\"_parent\"><img src=\"https://colab.research.google.com/assets/colab-badge.svg\" alt=\"Open In Colab\"/></a>"
      ]
    },
    {
      "cell_type": "code",
      "execution_count": 1,
      "metadata": {
        "colab": {
          "base_uri": "https://localhost:8080/"
        },
        "id": "4B5YCwl05V3H",
        "outputId": "dfff696e-ed71-499c-ac2e-56d83fe316d5"
      },
      "outputs": [
        {
          "output_type": "stream",
          "name": "stdout",
          "text": [
            "([2.0, 4.0, 3.0], [('text', 'TypeError'), (-25, 'ValueError')])\n"
          ]
        }
      ],
      "source": [
        "import math\n",
        "\n",
        "\n",
        "# Пишем функцию\n",
        "def safe_apply(func, data):\n",
        "    results = []\n",
        "    errors = []\n",
        "    for i in data:\n",
        "        try:\n",
        "            results.append(func(i))\n",
        "        except TypeError:\n",
        "            errors.append((i, 'TypeError'))\n",
        "        except ValueError:\n",
        "            errors.append((i, 'ValueError'))\n",
        "    ans = (results, errors)\n",
        "    return ans\n",
        "\n",
        "\n",
        "# Проверяем работу функции на списке data\n",
        "data = [4, 16, 'text', -25, 9.0]\n",
        "# и на лямбда-функции, вычисляющей квадратный корень\n",
        "func = lambda x: math.sqrt(x)\n",
        "print(safe_apply(func, data))"
      ]
    }
  ]
}