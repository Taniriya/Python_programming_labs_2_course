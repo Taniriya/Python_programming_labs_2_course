{
  "nbformat": 4,
  "nbformat_minor": 0,
  "metadata": {
    "colab": {
      "provenance": [],
      "authorship_tag": "ABX9TyP3gvc+FZS/2JgD3plrcUrJ",
      "include_colab_link": true
    },
    "kernelspec": {
      "name": "python3",
      "display_name": "Python 3"
    },
    "language_info": {
      "name": "python"
    }
  },
  "cells": [
    {
      "cell_type": "markdown",
      "metadata": {
        "id": "view-in-github",
        "colab_type": "text"
      },
      "source": [
        "<a href=\"https://colab.research.google.com/github/Taniriya/Python_programming_labs_2_course/blob/main/lab1/lab1_6_extra.ipynb\" target=\"_parent\"><img src=\"https://colab.research.google.com/assets/colab-badge.svg\" alt=\"Open In Colab\"/></a>"
      ]
    },
    {
      "cell_type": "code",
      "execution_count": 2,
      "metadata": {
        "colab": {
          "base_uri": "https://localhost:8080/"
        },
        "id": "EwJkxsoQIhBi",
        "outputId": "55bfc07b-bc6e-47ea-a31e-72af717b476d"
      },
      "outputs": [
        {
          "output_type": "stream",
          "name": "stdout",
          "text": [
            "[[ 1  6  9  7  9]\n",
            " [10  3  8  8  5]\n",
            " [ 7  7  6  8  6]\n",
            " [ 1  7  6  2 10]\n",
            " [ 1  2  3 10  4]]\n",
            "[[ 9 10  6  8  7]\n",
            " [ 7  2  4  1  4]\n",
            " [ 7  5  7  1  7]\n",
            " [ 4 10  1  9  1]\n",
            " [ 2  5  6  5  6]]\n",
            "[[ 9 60 54 56 63]\n",
            " [70  6 32  8 20]\n",
            " [49 35 42  8 42]\n",
            " [ 4 70  6 18 10]\n",
            " [ 2 10 18 50 24]]\n",
            "[[160 182 154 131 155]\n",
            " [209 251 166 188 176]\n",
            " [198 224 156 171 163]\n",
            " [128 124 138  89 139]\n",
            " [ 92 149  69 123  70]]\n",
            "-9472\n",
            "[[ 9  7  7  4  2]\n",
            " [10  2  5 10  5]\n",
            " [ 6  4  7  1  6]\n",
            " [ 8  1  1  9  5]\n",
            " [ 7  4  7  1  6]]\n",
            "[[-0.14759291  0.10451858  0.0032728   0.07801943  0.00147804]\n",
            " [ 0.09100507 -0.19320101  0.29698057 -0.1139147  -0.12394426]\n",
            " [ 0.29159628  0.01668074 -0.01361909 -0.19562922 -0.16744088]\n",
            " [-0.00147804 -0.02470439  0.02649916 -0.04571368  0.10874155]\n",
            " [-0.22360642  0.11972128 -0.20534206  0.29845861  0.16532939]]\n",
            "[32 34 34 26 20]\n",
            "[1. 1. 1. 1. 1.]\n",
            "[32. 34. 34. 26. 20.]\n",
            "Total time: 0.004724264144897461 seconds\n"
          ]
        }
      ],
      "source": [
        "import numpy as np\n",
        "import time\n",
        "\n",
        "\n",
        "class Timer:\n",
        "    def __enter__(self):\n",
        "        self.start_time = time.time()\n",
        "\n",
        "    def __exit__(self, type, value, traceback):\n",
        "        total_time = time.time() - self.start_time\n",
        "        print(f\"Total time: {total_time} seconds\")\n",
        "\n",
        "\n",
        "# Пример использования контекстного менеджера\n",
        "with Timer() as timer:\n",
        "    a = np.random.randint(1, 11, size=(5, 5))\n",
        "    b = np.random.randint(1, 11, size=(5, 5))\n",
        "    print(a)\n",
        "    print(b)\n",
        "    print(a * b)\n",
        "    print(a @ b)\n",
        "    print(round(np.linalg.det(a)))\n",
        "    print(b.T)\n",
        "    try:\n",
        "        print(np.linalg.inv(a))\n",
        "    except np.linalg.LinAlgError:\n",
        "        print(\"Матрица должна быть квадратной\")\n",
        "    c = np.sum(a, axis=1)\n",
        "    print(c)\n",
        "    x = np.linalg.solve(a, c)\n",
        "    print(x)\n",
        "    print(a @ x)"
      ]
    }
  ]
}