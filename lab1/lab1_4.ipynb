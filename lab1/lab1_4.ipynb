{
  "nbformat": 4,
  "nbformat_minor": 0,
  "metadata": {
    "colab": {
      "provenance": [],
      "authorship_tag": "ABX9TyPygI+uSfGHih/3/1LoV0X2",
      "include_colab_link": true
    },
    "kernelspec": {
      "name": "python3",
      "display_name": "Python 3"
    },
    "language_info": {
      "name": "python"
    }
  },
  "cells": [
    {
      "cell_type": "markdown",
      "metadata": {
        "id": "view-in-github",
        "colab_type": "text"
      },
      "source": [
        "<a href=\"https://colab.research.google.com/github/Taniriya/Python_programming_labs_2_course/blob/main/lab1/lab1_4.ipynb\" target=\"_parent\"><img src=\"https://colab.research.google.com/assets/colab-badge.svg\" alt=\"Open In Colab\"/></a>"
      ]
    },
    {
      "cell_type": "code",
      "execution_count": 14,
      "metadata": {
        "colab": {
          "base_uri": "https://localhost:8080/"
        },
        "id": "Lg_gydPSxEk_",
        "outputId": "a6b974a1-a180-4612-8aea-53cf1f606b0b"
      },
      "outputs": [
        {
          "output_type": "stream",
          "name": "stdout",
          "text": [
            "[[ 6  7  4  1  7]\n",
            " [ 1  4  1  7  9]\n",
            " [ 3  7  5  9  6]\n",
            " [ 4 10  7  8  5]\n",
            " [ 7  6  5  3  5]]\n",
            "[[1 7 3 1 2]\n",
            " [5 3 7 5 8]\n",
            " [5 8 9 1 3]\n",
            " [3 1 7 7 6]\n",
            " [4 7 9 8 2]]\n"
          ]
        }
      ],
      "source": [
        "import numpy as np\n",
        "\n",
        "\n",
        "a = np.random.randint(1, 11, size=(5, 5))\n",
        "b = np.random.randint(1, 11, size=(5, 5))\n",
        "\n",
        "print(a)\n",
        "print(b)"
      ]
    },
    {
      "cell_type": "code",
      "source": [
        "# Поэлементное произведение матриц\n",
        "print(a * b)"
      ],
      "metadata": {
        "colab": {
          "base_uri": "https://localhost:8080/"
        },
        "id": "KCT1oq1MxKyB",
        "outputId": "f79bd16f-f7a7-4bfe-9872-a9294abfa958"
      },
      "execution_count": 15,
      "outputs": [
        {
          "output_type": "stream",
          "name": "stdout",
          "text": [
            "[[ 6 49 12  1 14]\n",
            " [ 5 12  7 35 72]\n",
            " [15 56 45  9 18]\n",
            " [12 10 49 56 30]\n",
            " [28 42 45 24 10]]\n"
          ]
        }
      ]
    },
    {
      "cell_type": "code",
      "source": [
        "# Матричное произведение\n",
        "print(a @ b)"
      ],
      "metadata": {
        "colab": {
          "base_uri": "https://localhost:8080/"
        },
        "id": "W59J8CW3xSC0",
        "outputId": "86a1e035-a089-4ad1-91a9-8a2f7ea776ad"
      },
      "execution_count": 16,
      "outputs": [
        {
          "output_type": "stream",
          "name": "stdout",
          "text": [
            "[[ 92 145 173 108 100]\n",
            " [ 83  97 170 143  97]\n",
            " [114 133 220 154 143]\n",
            " [133 157 246 157 167]\n",
            " [ 91 145 174 103 105]]\n"
          ]
        }
      ]
    },
    {
      "cell_type": "code",
      "source": [
        "# Определитель матрицы A\n",
        "print(round(np.linalg.det(a)))"
      ],
      "metadata": {
        "colab": {
          "base_uri": "https://localhost:8080/"
        },
        "id": "cQoFT1J_xS7s",
        "outputId": "8157972e-3729-4683-d6e4-1fc998aa5e8a"
      },
      "execution_count": 23,
      "outputs": [
        {
          "output_type": "stream",
          "name": "stdout",
          "text": [
            "182\n"
          ]
        }
      ]
    },
    {
      "cell_type": "code",
      "source": [
        "# Транспонирование матрицы B\n",
        "print(b.T)"
      ],
      "metadata": {
        "colab": {
          "base_uri": "https://localhost:8080/"
        },
        "id": "QqmiuWxFxVAe",
        "outputId": "76cf6f6c-10de-442e-8297-603a1b5c433e"
      },
      "execution_count": 24,
      "outputs": [
        {
          "output_type": "stream",
          "name": "stdout",
          "text": [
            "[[1 5 5 3 4]\n",
            " [7 3 8 1 7]\n",
            " [3 7 9 7 9]\n",
            " [1 5 1 7 8]\n",
            " [2 8 3 6 2]]\n"
          ]
        }
      ]
    },
    {
      "cell_type": "code",
      "source": [
        "# Обратная матрица для A\n",
        "try:\n",
        "    print(np.linalg.inv(a))\n",
        "except np.linalg.LinAlgError:\n",
        "    print(\"Матрица должна быть квадратной\")"
      ],
      "metadata": {
        "colab": {
          "base_uri": "https://localhost:8080/"
        },
        "id": "ItimzAYaxXod",
        "outputId": "d1d3b9ff-0bfd-4b00-d097-96c492b43477"
      },
      "execution_count": 25,
      "outputs": [
        {
          "output_type": "stream",
          "name": "stdout",
          "text": [
            "[[-1.85714286  1.57142857 -3.28571429  1.85714286  1.85714286]\n",
            " [-2.05494505  1.97252747 -4.27472527  2.67032967  1.78571429]\n",
            " [ 4.20879121 -3.8956044   8.04395604 -4.74725275 -3.78571429]\n",
            " [-1.15384615  0.92307692 -1.76923077  1.07692308  1.        ]\n",
            " [ 1.54945055 -1.22527473  2.74725275 -1.7032967  -1.35714286]]\n"
          ]
        }
      ]
    },
    {
      "cell_type": "code",
      "source": [
        "# Находим С — вектор-столбец сумм строк матрицы A\n",
        "c = np.sum(a, axis=1)\n",
        "print(c)"
      ],
      "metadata": {
        "colab": {
          "base_uri": "https://localhost:8080/"
        },
        "id": "X97vFbcBxZtX",
        "outputId": "e95a9a5b-0515-4322-b57d-ec4d8d05f5c3"
      },
      "execution_count": 26,
      "outputs": [
        {
          "output_type": "stream",
          "name": "stdout",
          "text": [
            "[25 22 30 34 26]\n"
          ]
        }
      ]
    },
    {
      "cell_type": "code",
      "source": [
        "# Решаем уравнение A * x = C\n",
        "x = np.linalg.solve(a, c)\n",
        "print(x)\n",
        "print(\"Проверка:\")\n",
        "print(a @ x)\n",
        "# C равно a @ x"
      ],
      "metadata": {
        "colab": {
          "base_uri": "https://localhost:8080/"
        },
        "id": "mlxlWluJxbe2",
        "outputId": "e0d367da-20cf-49e8-e99e-180f092dbebb"
      },
      "execution_count": 27,
      "outputs": [
        {
          "output_type": "stream",
          "name": "stdout",
          "text": [
            "[1. 1. 1. 1. 1.]\n",
            "Проверка:\n",
            "[25. 22. 30. 34. 26.]\n"
          ]
        }
      ]
    }
  ]
}