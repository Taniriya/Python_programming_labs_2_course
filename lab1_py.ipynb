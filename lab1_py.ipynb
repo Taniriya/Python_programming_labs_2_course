{
  "nbformat": 4,
  "nbformat_minor": 0,
  "metadata": {
    "colab": {
      "provenance": [],
      "authorship_tag": "ABX9TyPynDsKdazCBDna8dnc+2cT",
      "include_colab_link": true
    },
    "kernelspec": {
      "name": "python3",
      "display_name": "Python 3"
    },
    "language_info": {
      "name": "python"
    }
  },
  "cells": [
    {
      "cell_type": "markdown",
      "metadata": {
        "id": "view-in-github",
        "colab_type": "text"
      },
      "source": [
        "<a href=\"https://colab.research.google.com/github/Taniriya/Python_programming_labs_2_course/blob/main/lab1_py.ipynb\" target=\"_parent\"><img src=\"https://colab.research.google.com/assets/colab-badge.svg\" alt=\"Open In Colab\"/></a>"
      ]
    },
    {
      "cell_type": "markdown",
      "source": [
        "Лабораторная работа №1\n",
        "\n",
        "Основные задачи\n",
        "Задача 1: Анализ данных о студентах (ООП + работа с файлами)\n",
        "\n",
        "Условие:\n",
        "\n",
        "    Создайте класс Student с атрибутами: name (имя), group (группа), grades (список оценок).\n",
        "    Реализуйте метод average_grade(), который возвращает средний балл студента.\n",
        "    Реализуйте метод is_excellent(), который возвращает True, если средний балл студента выше или равен 4.5, и False в противном случае.\n",
        "    В основной программе прочитайте данные из файла students.txt (формат: Имя;Группа;Оценка1,Оценка2,Оценка3), создайте список объектов Student.\n",
        "    Запишите в файл excellent_students.txt информацию о всех студентах-отличниках (каждая строка: Имя из файла - Группа).\n",
        "    Выведите на экран средний балл для каждой группы.\n",
        "\n",
        "Цель: Повторение ООП (классы, методы, инкапсуляция), работа с файлами, обработка строк, базовые коллекции.\n"
      ],
      "metadata": {
        "id": "NbCHh2YUA7hh"
      }
    },
    {
      "cell_type": "code",
      "execution_count": 56,
      "metadata": {
        "id": "LPfNhGeHAlPR"
      },
      "outputs": [],
      "source": [
        "class Student:\n",
        "  def __init__(self, name: str, group: int, grades: list):\n",
        "      self.__name = name\n",
        "      self.__group = group\n",
        "      self.__grades = grades\n",
        "  def average_grade(self):\n",
        "      return f'Ваш средний балл: {sum(self.__grades)/len(self.__grades)}'\n",
        "  def is_excelent(self):\n",
        "      if (sum(self.__grades)/len(self.__grades)) >= 4.5:\n",
        "        return True\n",
        "      else:\n",
        "        return False\n",
        "  def get_info(self):\n",
        "      return f'{self.__name} - {self.__group}'\n",
        "\n",
        "\n",
        "name_list = []\n",
        "count = 0\n",
        "with open('students.txt', 'r') as f:\n",
        "  for line in f:\n",
        "    name, group, grades = map(str, line.strip().split(';'))\n",
        "    grades_list = [int(i) for i in map(str, grades.split(','))]\n",
        "    name_list.append(name)\n",
        "    name_list[count] = Student(name, group, grades_list)\n",
        "    count += 1\n",
        "\n",
        "grages_avg = [0, 0, 0, 0]\n",
        "with open('excellent_students.txt', 'w', encoding=\"utf-8\") as f:\n",
        "  for i in range(len(name_list)):\n",
        "    if name_list[i].is_excelent():\n",
        "      f.writelines(name_list[i].get_info())\n"
      ]
    }
  ]
}